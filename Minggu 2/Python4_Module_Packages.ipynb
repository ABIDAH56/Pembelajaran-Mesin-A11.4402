{
  "cells": [
    {
      "cell_type": "markdown",
      "metadata": {
        "id": "tyLBKPvfK0MJ"
      },
      "source": [
        "# Python Bacis 4\n",
        "Modules, Packages and PIP\n",
        "\n",
        "Referensi Tambahan:\n",
        "- https://docs.python.org/3.8/\n",
        "- https://docs.python.org/id/3.8/tutorial/\n",
        "\n",
        "\n",
        "## Materi\n",
        "- importing and using Python modules;\n",
        "- using some of the most useful Python standard library modules;\n",
        "- constructing and using Python packages;\n",
        "- PIP (Python Installation Package) and how to use it to install and uninstall ready-to-use packages from PyPI.\n",
        "\n",
        "## Modules"
      ]
    },
    {
      "cell_type": "markdown",
      "metadata": {
        "id": "EKfPhz8XK0MK"
      },
      "source": [
        "Computer code has a tendency to grow.\n",
        "\n",
        "Growing code is in fact a growing problem.\n",
        "\n",
        "A larger code always means tougher maintenance. Searching for bugs is always easier where the code is smaller\n",
        "\n",
        "If you want such a software project to be completed successfully, you have to have the means allowing you to:\n",
        "- divide all the tasks among the developers;\n",
        "- join all the created parts into one working whole.\n",
        "\n",
        "For example, a certain project can be divided into two main parts:\n",
        "\n",
        "- the user interface (the part that communicates with the user using widgets and a graphical screen)\n",
        "- the logic (the part processing data and producing results)\n",
        "\n",
        "Each of these parts can be (most likely) divided into smaller ones, and so on. Such a process is often called __decomposition__."
      ]
    },
    {
      "cell_type": "markdown",
      "metadata": {
        "id": "ZEbifSB9K0ML"
      },
      "source": [
        "## How to make use of a module?\n"
      ]
    },
    {
      "cell_type": "markdown",
      "metadata": {
        "id": "8p0xLaqoK0ML"
      },
      "source": [
        "## Importing a module"
      ]
    },
    {
      "cell_type": "code",
      "execution_count": null,
      "metadata": {
        "id": "1KGcLlDrK0ML"
      },
      "outputs": [],
      "source": [
        "import math"
      ]
    },
    {
      "cell_type": "code",
      "execution_count": null,
      "metadata": {
        "id": "hqJ4VF4GK0MM"
      },
      "outputs": [],
      "source": [
        "import math, sys"
      ]
    },
    {
      "cell_type": "markdown",
      "metadata": {
        "id": "XlmLG-KoK0MM"
      },
      "source": [
        "## namespace"
      ]
    },
    {
      "cell_type": "code",
      "execution_count": 1,
      "metadata": {
        "colab": {
          "base_uri": "https://localhost:8080/",
          "height": 460
        },
        "id": "5t0OGp5tK0MM",
        "outputId": "7558b025-ece1-4f21-9ebc-685b87c4299e"
      },
      "outputs": [
        {
          "name": "stdout",
          "output_type": "stream",
          "text": [
            "3.141592653589793\n",
            "2.718281828459045\n",
            "3.141592653589793\n"
          ]
        },
        {
          "ename": "AttributeError",
          "evalue": "Module 'scipy' has no attribute 'pi'",
          "output_type": "error",
          "traceback": [
            "\u001b[0;31m---------------------------------------------------------------------------\u001b[0m",
            "\u001b[0;31mKeyError\u001b[0m                                  Traceback (most recent call last)",
            "\u001b[0;32m/usr/local/lib/python3.11/dist-packages/scipy/__init__.py\u001b[0m in \u001b[0;36m__getattr__\u001b[0;34m(name)\u001b[0m\n\u001b[1;32m    136\u001b[0m         \u001b[0;32mtry\u001b[0m\u001b[0;34m:\u001b[0m\u001b[0;34m\u001b[0m\u001b[0;34m\u001b[0m\u001b[0m\n\u001b[0;32m--> 137\u001b[0;31m             \u001b[0;32mreturn\u001b[0m \u001b[0mglobals\u001b[0m\u001b[0;34m(\u001b[0m\u001b[0;34m)\u001b[0m\u001b[0;34m[\u001b[0m\u001b[0mname\u001b[0m\u001b[0;34m]\u001b[0m\u001b[0;34m\u001b[0m\u001b[0;34m\u001b[0m\u001b[0m\n\u001b[0m\u001b[1;32m    138\u001b[0m         \u001b[0;32mexcept\u001b[0m \u001b[0mKeyError\u001b[0m\u001b[0;34m:\u001b[0m\u001b[0;34m\u001b[0m\u001b[0;34m\u001b[0m\u001b[0m\n",
            "\u001b[0;31mKeyError\u001b[0m: 'pi'",
            "\nDuring handling of the above exception, another exception occurred:\n",
            "\u001b[0;31mAttributeError\u001b[0m                            Traceback (most recent call last)",
            "\u001b[0;32m<ipython-input-1-26025ad45b9e>\u001b[0m in \u001b[0;36m<cell line: 0>\u001b[0;34m()\u001b[0m\n\u001b[1;32m      6\u001b[0m \u001b[0mprint\u001b[0m\u001b[0;34m(\u001b[0m\u001b[0mmath\u001b[0m\u001b[0;34m.\u001b[0m\u001b[0me\u001b[0m\u001b[0;34m)\u001b[0m\u001b[0;34m\u001b[0m\u001b[0;34m\u001b[0m\u001b[0m\n\u001b[1;32m      7\u001b[0m \u001b[0mprint\u001b[0m\u001b[0;34m(\u001b[0m\u001b[0mnumpy\u001b[0m\u001b[0;34m.\u001b[0m\u001b[0mpi\u001b[0m\u001b[0;34m)\u001b[0m\u001b[0;34m\u001b[0m\u001b[0;34m\u001b[0m\u001b[0m\n\u001b[0;32m----> 8\u001b[0;31m \u001b[0mprint\u001b[0m\u001b[0;34m(\u001b[0m\u001b[0mscipy\u001b[0m\u001b[0;34m.\u001b[0m\u001b[0mpi\u001b[0m\u001b[0;34m)\u001b[0m\u001b[0;34m\u001b[0m\u001b[0;34m\u001b[0m\u001b[0m\n\u001b[0m\u001b[1;32m      9\u001b[0m \u001b[0;31m#note: pi inside the module won't be affected by pi that we declare in main program\u001b[0m\u001b[0;34m\u001b[0m\u001b[0;34m\u001b[0m\u001b[0m\n",
            "\u001b[0;32m/usr/local/lib/python3.11/dist-packages/scipy/__init__.py\u001b[0m in \u001b[0;36m__getattr__\u001b[0;34m(name)\u001b[0m\n\u001b[1;32m    137\u001b[0m             \u001b[0;32mreturn\u001b[0m \u001b[0mglobals\u001b[0m\u001b[0;34m(\u001b[0m\u001b[0;34m)\u001b[0m\u001b[0;34m[\u001b[0m\u001b[0mname\u001b[0m\u001b[0;34m]\u001b[0m\u001b[0;34m\u001b[0m\u001b[0;34m\u001b[0m\u001b[0m\n\u001b[1;32m    138\u001b[0m         \u001b[0;32mexcept\u001b[0m \u001b[0mKeyError\u001b[0m\u001b[0;34m:\u001b[0m\u001b[0;34m\u001b[0m\u001b[0;34m\u001b[0m\u001b[0m\n\u001b[0;32m--> 139\u001b[0;31m             raise AttributeError(\n\u001b[0m\u001b[1;32m    140\u001b[0m                 \u001b[0;34mf\"Module 'scipy' has no attribute '{name}'\"\u001b[0m\u001b[0;34m\u001b[0m\u001b[0;34m\u001b[0m\u001b[0m\n\u001b[1;32m    141\u001b[0m             )\n",
            "\u001b[0;31mAttributeError\u001b[0m: Module 'scipy' has no attribute 'pi'"
          ]
        }
      ],
      "source": [
        "import numpy\n",
        "import math\n",
        "import scipy\n",
        "\n",
        "print(math.pi)\n",
        "print(math.e)\n",
        "print(numpy.pi)\n",
        "print(scipy.pi)\n",
        "#note: pi inside the module won't be affected by pi that we declare in main program"
      ]
    },
    {
      "cell_type": "code",
      "execution_count": 2,
      "metadata": {
        "colab": {
          "base_uri": "https://localhost:8080/"
        },
        "id": "mZrkA3FAK0MM",
        "outputId": "ae78c282-956a-4d98-a983-9a5e39791cad"
      },
      "outputs": [
        {
          "name": "stdout",
          "output_type": "stream",
          "text": [
            "3.141592653589793\n",
            "2.718281828459045\n"
          ]
        }
      ],
      "source": [
        "from math import pi,e\n",
        "\n",
        "print(pi)\n",
        "print(e)\n",
        "\n",
        "# dir(math)"
      ]
    },
    {
      "cell_type": "markdown",
      "metadata": {
        "id": "odN3DBgrK0MM"
      },
      "source": [
        "The instruction consists of the following elements:\n",
        "\n",
        "- the `from` keyword;\n",
        "- the `name of the module` to be (selectively) imported;\n",
        "- the `import` keyword;\n",
        "- the `name` or `list of names` of the entity/entities which are being imported into the namespace."
      ]
    },
    {
      "cell_type": "code",
      "execution_count": 3,
      "metadata": {
        "colab": {
          "base_uri": "https://localhost:8080/"
        },
        "id": "kR_1AbQ1K0MM",
        "outputId": "959d95df-5d12-4cf1-a836-32713ae0d04a"
      },
      "outputs": [
        {
          "name": "stdout",
          "output_type": "stream",
          "text": [
            "1.0\n",
            "=====\n",
            "0.99999999\n"
          ]
        }
      ],
      "source": [
        "## override nilai sin dan pi\n",
        "from math import sin, pi\n",
        "\n",
        "print(sin(pi/2))\n",
        "\n",
        "print(\"=====\")\n",
        "\n",
        "pi = 3.14\n",
        "\n",
        "def sin(x):\n",
        "    if 2 * x == pi:\n",
        "        return 0.99999999\n",
        "    else:\n",
        "        return None\n",
        "\n",
        "print(sin(pi/2))"
      ]
    },
    {
      "cell_type": "markdown",
      "metadata": {
        "id": "LnFstgscK0MN"
      },
      "source": [
        "## Mengimport semua modul"
      ]
    },
    {
      "cell_type": "code",
      "execution_count": 4,
      "metadata": {
        "colab": {
          "base_uri": "https://localhost:8080/"
        },
        "id": "yWf7fYKGK0MN",
        "outputId": "e66c2a4b-ca84-4dd7-c563-7a7c4514a90f"
      },
      "outputs": [
        {
          "name": "stdout",
          "output_type": "stream",
          "text": [
            "0.0\n"
          ]
        }
      ],
      "source": [
        "from math import *\n",
        "print(tan(0))"
      ]
    },
    {
      "cell_type": "markdown",
      "metadata": {
        "id": "eQLtvnYAK0MN"
      },
      "source": [
        "Nama dari entitas digantikan dengan asterisk tunggal `*`\n",
        "\n",
        "`*` merupakan instruksi untuk meng-import semua entitas yang ada"
      ]
    },
    {
      "cell_type": "markdown",
      "metadata": {
        "id": "Wr40vrpDK0MN"
      },
      "source": [
        "### Aliasing"
      ]
    },
    {
      "cell_type": "markdown",
      "metadata": {
        "id": "cxJbKDPAK0MN"
      },
      "source": [
        "Untuk nama file yang akan di `import` kan dapat dilakukan proses `aliasing`\n",
        "\n",
        "`Aliasing` menyebabkan `modul` diidentifikasi dengan `nama yang berbeda` dari `aslinya`"
      ]
    },
    {
      "cell_type": "markdown",
      "metadata": {
        "id": "mKsCSRsGK0MN"
      },
      "source": [
        "`import` module `as` alias\n",
        "\n",
        "`as` merupakan kata kunci untuk melakukan `aliasing`"
      ]
    },
    {
      "cell_type": "markdown",
      "metadata": {
        "id": "0IX_m68fK0MN"
      },
      "source": [
        "Jika kita ingin merename `math`, dengan `m` dapat dilakukan dengan cara sebagai berikut."
      ]
    },
    {
      "cell_type": "code",
      "execution_count": 5,
      "metadata": {
        "colab": {
          "base_uri": "https://localhost:8080/"
        },
        "id": "8M0-pjOoK0MN",
        "outputId": "8245d7e8-b97b-4e36-e95e-6cbe43686f05"
      },
      "outputs": [
        {
          "name": "stdout",
          "output_type": "stream",
          "text": [
            "3.141592653589793\n"
          ]
        }
      ],
      "source": [
        "import math as m\n",
        "\n",
        "print(m.pi)\n"
      ]
    },
    {
      "cell_type": "markdown",
      "metadata": {
        "id": "wjhbBD4fK0MN"
      },
      "source": [
        "__Note__ : after successful execution of an aliased import, the original module name becomes inaccessible and must not be used."
      ]
    },
    {
      "cell_type": "markdown",
      "metadata": {
        "id": "6VkL5cv3K0MN"
      },
      "source": [
        "__from__ `module` __import__ `name` __as__ `alias`\n",
        "\n",
        "__from__ `module` __import__ `n` __as__ `a`, `m` __as__ `b`, `o` __as__ `c`"
      ]
    },
    {
      "cell_type": "code",
      "execution_count": 6,
      "metadata": {
        "colab": {
          "base_uri": "https://localhost:8080/"
        },
        "id": "Y9X4s-8oK0MN",
        "outputId": "4e01f065-0a9c-436c-c876-401e1b2a4380"
      },
      "outputs": [
        {
          "name": "stdout",
          "output_type": "stream",
          "text": [
            "1.0\n"
          ]
        }
      ],
      "source": [
        "from math import pi as PI, sin as sine\n",
        "\n",
        "print(sine(PI/2))"
      ]
    },
    {
      "cell_type": "markdown",
      "metadata": {
        "id": "kNZaZcfcK0MN"
      },
      "source": [
        "## Working with standard modules\n",
        "\n",
        "__dir__(`module`)\n",
        "\n",
        "The function returns an alphabetically sorted list containing all entities' names available in the module"
      ]
    },
    {
      "cell_type": "code",
      "execution_count": 7,
      "metadata": {
        "colab": {
          "base_uri": "https://localhost:8080/"
        },
        "id": "SOWoDmVMK0MN",
        "outputId": "956c703a-81ae-4df7-8d60-4e48effdc3db"
      },
      "outputs": [
        {
          "name": "stdout",
          "output_type": "stream",
          "text": [
            "['__doc__', '__loader__', '__name__', '__package__', '__spec__', 'acos', 'acosh', 'asin', 'asinh', 'atan', 'atan2', 'atanh', 'cbrt', 'ceil', 'comb', 'copysign', 'cos', 'cosh', 'degrees', 'dist', 'e', 'erf', 'erfc', 'exp', 'exp2', 'expm1', 'fabs', 'factorial', 'floor', 'fmod', 'frexp', 'fsum', 'gamma', 'gcd', 'hypot', 'inf', 'isclose', 'isfinite', 'isinf', 'isnan', 'isqrt', 'lcm', 'ldexp', 'lgamma', 'log', 'log10', 'log1p', 'log2', 'modf', 'nan', 'nextafter', 'perm', 'pi', 'pow', 'prod', 'radians', 'remainder', 'sin', 'sinh', 'sqrt', 'tan', 'tanh', 'tau', 'trunc', 'ulp']\n"
          ]
        }
      ],
      "source": [
        "import math\n",
        "print(dir(math))"
      ]
    },
    {
      "cell_type": "code",
      "execution_count": 8,
      "metadata": {
        "colab": {
          "base_uri": "https://localhost:8080/"
        },
        "id": "63voVfRBK0MN",
        "outputId": "dab9bc26-0346-4f79-9f58-d4d908db7ab1"
      },
      "outputs": [
        {
          "name": "stdout",
          "output_type": "stream",
          "text": [
            "8.0\n",
            "__doc__\t__loader__\t__name__\t__package__\t__spec__\tacos\tacosh\tasin\tasinh\tatan\tatan2\tatanh\tcbrt\tceil\tcomb\tcopysign\tcos\tcosh\tdegrees\tdist\te\terf\terfc\texp\texp2\texpm1\tfabs\tfactorial\tfloor\tfmod\tfrexp\tfsum\tgamma\tgcd\thypot\tinf\tisclose\tisfinite\tisinf\tisnan\tisqrt\tlcm\tldexp\tlgamma\tlog\tlog10\tlog1p\tlog2\tmodf\tnan\tnextafter\tperm\tpi\tpow\tprod\tradians\tremainder\tsin\tsinh\tsqrt\ttan\ttanh\ttau\ttrunc\tulp\t"
          ]
        }
      ],
      "source": [
        "import math\n",
        "\n",
        "a = math.pow(2,3)\n",
        "print(a)\n",
        "\n",
        "for name in dir(math):\n",
        "    print(name, end=\"\\t\")"
      ]
    },
    {
      "cell_type": "markdown",
      "metadata": {
        "id": "uxtYpegxK0MN"
      },
      "source": [
        "###  `math` module"
      ]
    },
    {
      "cell_type": "markdown",
      "metadata": {
        "id": "fdIlk-73K0MN"
      },
      "source": [
        "Let's start with a quick preview of some of the functions provided by the math module.\n",
        "\n",
        "The first group of the math's functions are connected with trigonometry:\n",
        "\n",
        "- `sin(x)` → the sine of x;\n",
        "- `cos(x)` → the cosine of x;\n",
        "- `tan(x)` → the tangent of x.\n",
        "\n",
        "Here are also their inversed versions:\n",
        "\n",
        "- `asin(x)` → the arcsine of x;\n",
        "- `acos(x)` → the arccosine of x;\n",
        "- `atan(x)` → the arctangent of x.\n",
        "\n",
        "`x` is a radian\n",
        "\n",
        "These functions take one argument (mind the domains) and return a measure of an angle in radians."
      ]
    },
    {
      "cell_type": "markdown",
      "metadata": {
        "id": "KOQ2_noPK0MO"
      },
      "source": [
        "To effectively operate on angle measurements, the math module provides you with the following entities:\n",
        "\n",
        "- `pi` → a constant with a value that is an approximation of π;\n",
        "- `radians(x)` → a function that converts x from degrees to radians;\n",
        "- `degrees(x)` → acting in the other direction (from radians to degrees)"
      ]
    },
    {
      "cell_type": "code",
      "execution_count": 9,
      "metadata": {
        "colab": {
          "base_uri": "https://localhost:8080/"
        },
        "id": "jebrA27FK0MO",
        "outputId": "9cacd680-3e11-4996-8fea-505b801e3c96"
      },
      "outputs": [
        {
          "name": "stdout",
          "output_type": "stream",
          "text": [
            "1.5707963267948966\n",
            "90.0\n",
            "True\n",
            "True\n",
            "True\n",
            "True\n"
          ]
        }
      ],
      "source": [
        "from math import pi, radians, degrees, sin, cos, tan, asin\n",
        "\n",
        "ad = 90\n",
        "\n",
        "ar = radians(ad)\n",
        "print(ar)\n",
        "ad = degrees(ar)\n",
        "print(ad)\n",
        "\n",
        "print(ad == 90.)\n",
        "print(ar == pi / 2.)\n",
        "print(sin(ar) / cos(ar) == tan(ar))\n",
        "print(asin(sin(ar)) == ar)"
      ]
    },
    {
      "cell_type": "markdown",
      "metadata": {
        "id": "lsNeM_4XK0MO"
      },
      "source": [
        "Another group of the math's functions is formed by functions which are connected with exponentiation:\n",
        "\n",
        "- `e` → a constant with a value that is an approximation of Euler's number (e)\n",
        "- `exp(x)` → finding the value of ex;\n",
        "- `log(x)` → the natural logarithm of x\n",
        "- `log(x, b)` → the logarithm of x to base b\n",
        "- `log10(x)` → the decimal logarithm of x (more precise than log(x, 10))\n",
        "- `log2(x)` → the binary logarithm of x (more precise than log(x, 2))"
      ]
    },
    {
      "cell_type": "code",
      "execution_count": 10,
      "metadata": {
        "colab": {
          "base_uri": "https://localhost:8080/"
        },
        "id": "oMh-hzvGK0MO",
        "outputId": "18cead6b-72d7-4678-991f-34004bba47e1"
      },
      "outputs": [
        {
          "name": "stdout",
          "output_type": "stream",
          "text": [
            "True\n",
            "True\n",
            "True\n"
          ]
        }
      ],
      "source": [
        "from math import e, exp, log\n",
        "\n",
        "print(pow(e, 1) == exp(log(e)))\n",
        "print(pow(2, 2) == exp(2 * log(2)))\n",
        "print(log(e, e) == exp(0))"
      ]
    },
    {
      "cell_type": "markdown",
      "metadata": {
        "id": "5ncCWKNYK0MO"
      },
      "source": [
        "### Built-in function\n",
        "\n",
        "Note: the pow() function:\n",
        "\n",
        "`pow(x, y)` → finding the value of xy (mind the domains)\n",
        "\n",
        "This is a built-in function, and doesn't have to be imported."
      ]
    },
    {
      "cell_type": "markdown",
      "metadata": {
        "id": "ooQLNreRK0MO"
      },
      "source": [
        "The last group consists of some general-purpose functions like:\n",
        "\n",
        "- ceil(x) → the ceiling of x (the smallest integer greater than or equal to x)\n",
        "- floor(x) → the floor of x (the largest integer less than or equal to x)\n",
        "- trunc(x) → the value of x truncated to an integer (__be careful__ - it's __not an equivalent__ either of ceil or floor)\n",
        "- factorial(x) → returns x! (x has to be an integral and not a negative)\n",
        "- hypot(x, y) → returns the length of the hypotenuse of a right-angle triangle with the leg lengths equal to x and y (the same as sqrt(pow(x, 2) + pow(y, 2)) but more precise)"
      ]
    },
    {
      "cell_type": "markdown",
      "metadata": {
        "id": "HcbZT8t1K0MO"
      },
      "source": [
        "It demonstrates the fundamental differences between `ceil()`, `floor()` and `trunc()`."
      ]
    },
    {
      "cell_type": "code",
      "execution_count": 11,
      "metadata": {
        "colab": {
          "base_uri": "https://localhost:8080/"
        },
        "id": "pne60itqK0MO",
        "outputId": "62430f8d-5c72-4d0f-f263-6877643789e8"
      },
      "outputs": [
        {
          "name": "stdout",
          "output_type": "stream",
          "text": [
            "1 2\n",
            "-2 -3\n",
            "2 3\n",
            "-1 -2\n",
            "1 2\n",
            "-1 -2\n"
          ]
        }
      ],
      "source": [
        "from math import ceil, floor, trunc\n",
        "\n",
        "x = 1.4\n",
        "y = 2.6\n",
        "\n",
        "print(floor(x), floor(y))\n",
        "print(floor(-x), floor(-y))\n",
        "print(ceil(x), ceil(y))\n",
        "print(ceil(-x), ceil(-y))\n",
        "print(trunc(x), trunc(y))\n",
        "print(trunc(-x), trunc(-y))"
      ]
    },
    {
      "cell_type": "markdown",
      "metadata": {
        "id": "XeC7Nw76K0MU"
      },
      "source": [
        "It delivers some mechanisms allowing you to operate with __pseudorandom numbers__.\n",
        "\n",
        "__pseudo -__ :  the numbers generated by the modules may look random in the sense that you cannot predict their subsequent values, but don't forget that they all are calculated using very refined algorithms."
      ]
    },
    {
      "cell_type": "code",
      "execution_count": 12,
      "metadata": {
        "colab": {
          "base_uri": "https://localhost:8080/"
        },
        "id": "BUbZ9Li3K0MU",
        "outputId": "1684f054-66d3-4d65-b5b1-9ef61b5ae06d"
      },
      "outputs": [
        {
          "name": "stdout",
          "output_type": "stream",
          "text": [
            "0.6252757996748199\n",
            "0.2550368122792527\n",
            "0.5434837624502754\n",
            "0.8845980860061945\n",
            "0.22699107610063185\n"
          ]
        }
      ],
      "source": [
        "from random import random\n",
        "for i in range(5):\n",
        "    print(random())"
      ]
    },
    {
      "cell_type": "code",
      "execution_count": 13,
      "metadata": {
        "id": "ITy3aMbIK0MU"
      },
      "outputs": [],
      "source": [
        "# import random\n",
        "# dir(random)"
      ]
    },
    {
      "cell_type": "markdown",
      "metadata": {
        "id": "XgjUewNTK0MU"
      },
      "source": [
        "If you want integer random values, one of the following functions would fit better:\n",
        "\n",
        "- randrange(end)\n",
        "- randrange(beg, end)\n",
        "- randrange(beg, end, step)\n",
        "- randint(left, right)"
      ]
    },
    {
      "cell_type": "code",
      "execution_count": 14,
      "metadata": {
        "colab": {
          "base_uri": "https://localhost:8080/"
        },
        "id": "JjIAAvhbK0MU",
        "outputId": "55f37ccf-41dd-49bc-86d8-99a7aec39bc8"
      },
      "outputs": [
        {
          "name": "stdout",
          "output_type": "stream",
          "text": [
            "136\n",
            "96\n",
            "160\n",
            "6\n"
          ]
        }
      ],
      "source": [
        "# ini kode apa\n",
        "from random import randrange, randint\n",
        "\n",
        "print(randrange(200), end='\\n')\n",
        "print(randrange(50, 100), end='\\n')\n",
        "print(randrange(50, 200, 10), end='\\n')\n",
        "print(randint(5, 10))"
      ]
    },
    {
      "cell_type": "markdown",
      "metadata": {
        "id": "MNz43RiVK0MU"
      },
      "source": [
        "This is what we got in one of the launches:\n",
        "\n",
        "__`9,4,5,4,5,8,9,4,8,4,`__"
      ]
    },
    {
      "cell_type": "markdown",
      "metadata": {
        "id": "hYXI2K19K0MU"
      },
      "source": [
        "It's a function named in a very suggestive way - choice:\n",
        "\n",
        "choice(sequence)\n",
        "sample(sequence, elements_to_choose=1)"
      ]
    },
    {
      "cell_type": "code",
      "execution_count": 15,
      "metadata": {
        "colab": {
          "base_uri": "https://localhost:8080/"
        },
        "id": "9HQZHlxmK0MU",
        "outputId": "b5166255-08b8-4bc8-cf2e-917b599e3495"
      },
      "outputs": [
        {
          "name": "stdout",
          "output_type": "stream",
          "text": [
            "Desi\n",
            "[3]\n",
            "[4, 9, 10, 7, 5, 1, 8, 6, 3, 2]\n"
          ]
        }
      ],
      "source": [
        "from random import choice, sample\n",
        "\n",
        "lst = [1, 2, 3, 4, 5, 6, 7, 8, 9, 10]\n",
        "siswa = ['Ani','Budi','Cakra','Desi']\n",
        "print(choice(siswa))\n",
        "print(sample(lst, 1))\n",
        "print(sample(lst, 10))"
      ]
    },
    {
      "cell_type": "code",
      "execution_count": 16,
      "metadata": {
        "colab": {
          "base_uri": "https://localhost:8080/"
        },
        "id": "-agL9G6TK0MV",
        "outputId": "c034aa4e-7812-4cbc-b001-d80f8326659e"
      },
      "outputs": [
        {
          "name": "stdout",
          "output_type": "stream",
          "text": [
            "7,10,9,10,4,6,1,7,6,3,"
          ]
        }
      ],
      "source": [
        "from random import randint\n",
        "\n",
        "for i in range(10):\n",
        "    print(randint(1, 10), end=',')"
      ]
    },
    {
      "cell_type": "markdown",
      "metadata": {
        "id": "NxY_LRdRK0MV"
      },
      "source": [
        "### How to know where you are?"
      ]
    },
    {
      "cell_type": "code",
      "execution_count": 17,
      "metadata": {
        "colab": {
          "base_uri": "https://localhost:8080/"
        },
        "id": "NZI27XvmK0MV",
        "outputId": "3bb969ca-ec34-4217-9963-2383718b5173"
      },
      "outputs": [
        {
          "name": "stdout",
          "output_type": "stream",
          "text": [
            "Linux-6.1.85+-x86_64-with-glibc2.35\n",
            "Linux-6.1.85+-x86_64-with-glibc2.35\n",
            "Linux-6.1.85+-x86_64-with-glibc2.35\n"
          ]
        }
      ],
      "source": [
        "from platform import platform\n",
        "\n",
        "print(platform())\n",
        "print(platform(1))\n",
        "print(platform(0, 1))"
      ]
    },
    {
      "cell_type": "code",
      "execution_count": 18,
      "metadata": {
        "id": "E1IT6xBUK0MV"
      },
      "outputs": [],
      "source": [
        "# import platform\n",
        "# dir(platform)"
      ]
    },
    {
      "cell_type": "code",
      "execution_count": 19,
      "metadata": {
        "colab": {
          "base_uri": "https://localhost:8080/"
        },
        "id": "rErBzudjK0MV",
        "outputId": "fd2c0eb5-9adf-4719-e1af-7bc532f9f2b2"
      },
      "outputs": [
        {
          "name": "stdout",
          "output_type": "stream",
          "text": [
            "x86_64\n"
          ]
        }
      ],
      "source": [
        "from platform import machine\n",
        "\n",
        "print(machine())"
      ]
    },
    {
      "cell_type": "code",
      "execution_count": 20,
      "metadata": {
        "colab": {
          "base_uri": "https://localhost:8080/"
        },
        "id": "MjechKqSK0MV",
        "outputId": "16e01c03-507a-483d-b1ef-677a3deafdd3"
      },
      "outputs": [
        {
          "name": "stdout",
          "output_type": "stream",
          "text": [
            "x86_64\n"
          ]
        }
      ],
      "source": [
        "from platform import processor\n",
        "\n",
        "print(processor())"
      ]
    },
    {
      "cell_type": "markdown",
      "metadata": {
        "id": "Sj7kbNbLK0MV"
      },
      "source": [
        "You can read about all standard Python modules here: https://docs.python.org/3/py-modindex.html."
      ]
    },
    {
      "cell_type": "markdown",
      "metadata": {
        "id": "CJGTaSt9K0MV"
      },
      "source": [
        "# Package"
      ]
    },
    {
      "cell_type": "markdown",
      "metadata": {
        "id": "tT4Ld-w1K0MV"
      },
      "source": [
        "- __a module is a kind of container filled with functions__ - you can pack as many functions as you want into one module and distribute it across the world;\n",
        "- of course, it's generally __a good idea not to mix functions with different application areas__ within one module\n",
        "- making many modules may cause a little mess - sooner or later you'll want to __group your modules__ exactly in the same way as you've previously grouped functions\n",
        "- __package__; in the world of modules, a package plays a similar role to a folder/directory in the world of files."
      ]
    },
    {
      "cell_type": "markdown",
      "metadata": {
        "id": "BGSzc9lmK0MV"
      },
      "source": [
        "### Membuat modul\n",
        "\n",
        "Pertama,kita membuat 2 file dengan nama aritmatika.py dan main.py\n",
        "\n",
        "Langkah:\n",
        "\n",
        "artimatika.py:\n",
        "\n",
        "- Buka python IDLE\n",
        "- Klik __file__ dan pilih __new file__\n",
        "- Simpan file dengan nama __aritmatika.py__\n",
        "\n",
        "main.py:\n",
        "\n",
        "- Buka python IDLE\n",
        "- Klik __file__ dan pilih __new file__\n",
        "- Simpan file dengan __main.py__\n",
        "\n",
        "Note: __Kedua file disimpan dalam satu folder yang sama.__\n"
      ]
    },
    {
      "cell_type": "code",
      "execution_count": 21,
      "metadata": {
        "id": "a17IwR_vK0MV"
      },
      "outputs": [],
      "source": [
        "# aritmatika.py\n",
        "\n",
        "def tambah(a,b):\n",
        "    return a+b\n",
        "\n",
        "def kurang(a,b):\n",
        "    return a-b\n",
        "\n",
        "def kali(a,b):\n",
        "    return a*b\n",
        "\n",
        "def bagi(a,b):\n",
        "    return a/b"
      ]
    },
    {
      "cell_type": "code",
      "execution_count": 24,
      "metadata": {
        "colab": {
          "base_uri": "https://localhost:8080/",
          "height": 314
        },
        "id": "qJuGNV0ZK0MV",
        "outputId": "ba0ef05f-0343-4a38-d5ac-934c3410c883"
      },
      "outputs": [
        {
          "ename": "ModuleNotFoundError",
          "evalue": "No module named 'aritmatika'",
          "output_type": "error",
          "traceback": [
            "\u001b[0;31m---------------------------------------------------------------------------\u001b[0m",
            "\u001b[0;31mModuleNotFoundError\u001b[0m                       Traceback (most recent call last)",
            "\u001b[0;32m<ipython-input-24-24557fea67a6>\u001b[0m in \u001b[0;36m<cell line: 0>\u001b[0;34m()\u001b[0m\n\u001b[0;32m----> 1\u001b[0;31m \u001b[0;32mimport\u001b[0m \u001b[0maritmatika\u001b[0m\u001b[0;34m\u001b[0m\u001b[0;34m\u001b[0m\u001b[0m\n\u001b[0m",
            "\u001b[0;31mModuleNotFoundError\u001b[0m: No module named 'aritmatika'",
            "",
            "\u001b[0;31m---------------------------------------------------------------------------\u001b[0;32m\nNOTE: If your import is failing due to a missing package, you can\nmanually install dependencies using either !pip or !apt.\n\nTo view examples of installing some common dependencies, click the\n\"Open Examples\" button below.\n\u001b[0;31m---------------------------------------------------------------------------\u001b[0m\n"
          ]
        }
      ],
      "source": [
        "import aritmatika"
      ]
    },
    {
      "cell_type": "code",
      "execution_count": 25,
      "metadata": {
        "colab": {
          "base_uri": "https://localhost:8080/",
          "height": 211
        },
        "id": "-z-h4A3yK0MV",
        "outputId": "b73ee861-49c9-43cf-9a9c-3d9e16b52c91"
      },
      "outputs": [
        {
          "ename": "NameError",
          "evalue": "name 'aritmatika' is not defined",
          "output_type": "error",
          "traceback": [
            "\u001b[0;31m---------------------------------------------------------------------------\u001b[0m",
            "\u001b[0;31mNameError\u001b[0m                                 Traceback (most recent call last)",
            "\u001b[0;32m<ipython-input-25-1fae4a06367d>\u001b[0m in \u001b[0;36m<cell line: 0>\u001b[0;34m()\u001b[0m\n\u001b[0;32m----> 1\u001b[0;31m \u001b[0ma\u001b[0m\u001b[0;34m=\u001b[0m\u001b[0maritmatika\u001b[0m\u001b[0;34m.\u001b[0m\u001b[0mtambah\u001b[0m\u001b[0;34m(\u001b[0m\u001b[0;36m3\u001b[0m\u001b[0;34m,\u001b[0m\u001b[0;36m4\u001b[0m\u001b[0;34m)\u001b[0m\u001b[0;34m\u001b[0m\u001b[0;34m\u001b[0m\u001b[0m\n\u001b[0m\u001b[1;32m      2\u001b[0m \u001b[0mb\u001b[0m\u001b[0;34m=\u001b[0m\u001b[0maritmatika\u001b[0m\u001b[0;34m.\u001b[0m\u001b[0mkurang\u001b[0m\u001b[0;34m(\u001b[0m\u001b[0;36m3\u001b[0m\u001b[0;34m,\u001b[0m\u001b[0;36m4\u001b[0m\u001b[0;34m)\u001b[0m\u001b[0;34m\u001b[0m\u001b[0;34m\u001b[0m\u001b[0m\n\u001b[1;32m      3\u001b[0m \u001b[0mc\u001b[0m\u001b[0;34m=\u001b[0m\u001b[0maritmatika\u001b[0m\u001b[0;34m.\u001b[0m\u001b[0mkali\u001b[0m\u001b[0;34m(\u001b[0m\u001b[0;36m3\u001b[0m\u001b[0;34m,\u001b[0m\u001b[0;36m4\u001b[0m\u001b[0;34m)\u001b[0m\u001b[0;34m\u001b[0m\u001b[0;34m\u001b[0m\u001b[0m\n\u001b[1;32m      4\u001b[0m \u001b[0md\u001b[0m\u001b[0;34m=\u001b[0m\u001b[0maritmatika\u001b[0m\u001b[0;34m.\u001b[0m\u001b[0mbagi\u001b[0m\u001b[0;34m(\u001b[0m\u001b[0;36m3\u001b[0m\u001b[0;34m,\u001b[0m\u001b[0;36m4\u001b[0m\u001b[0;34m)\u001b[0m\u001b[0;34m\u001b[0m\u001b[0;34m\u001b[0m\u001b[0m\n\u001b[1;32m      5\u001b[0m \u001b[0;34m\u001b[0m\u001b[0m\n",
            "\u001b[0;31mNameError\u001b[0m: name 'aritmatika' is not defined"
          ]
        }
      ],
      "source": [
        "a=aritmatika.tambah(3,4)\n",
        "b=aritmatika.kurang(3,4)\n",
        "c=aritmatika.kali(3,4)\n",
        "d=aritmatika.bagi(3,4)\n",
        "\n",
        "print(a)\n",
        "print(b)\n",
        "print(c)\n",
        "print(d)"
      ]
    },
    {
      "cell_type": "code",
      "execution_count": 26,
      "metadata": {
        "colab": {
          "base_uri": "https://localhost:8080/",
          "height": 366
        },
        "id": "xPFzQ4VyK0MW",
        "outputId": "9a1a8a61-1e08-49f8-82b0-49eb2b524b1a"
      },
      "outputs": [
        {
          "ename": "ModuleNotFoundError",
          "evalue": "No module named 'aritmatika'",
          "output_type": "error",
          "traceback": [
            "\u001b[0;31m---------------------------------------------------------------------------\u001b[0m",
            "\u001b[0;31mModuleNotFoundError\u001b[0m                       Traceback (most recent call last)",
            "\u001b[0;32m<ipython-input-26-9b34ca4cfbde>\u001b[0m in \u001b[0;36m<cell line: 0>\u001b[0;34m()\u001b[0m\n\u001b[0;32m----> 1\u001b[0;31m \u001b[0;32mfrom\u001b[0m \u001b[0maritmatika\u001b[0m \u001b[0;32mimport\u001b[0m \u001b[0mtambah\u001b[0m\u001b[0;34m\u001b[0m\u001b[0;34m\u001b[0m\u001b[0m\n\u001b[0m\u001b[1;32m      2\u001b[0m \u001b[0;34m\u001b[0m\u001b[0m\n\u001b[1;32m      3\u001b[0m \u001b[0ma\u001b[0m\u001b[0;34m=\u001b[0m\u001b[0mtambah\u001b[0m\u001b[0;34m(\u001b[0m\u001b[0;36m10\u001b[0m\u001b[0;34m,\u001b[0m\u001b[0;36m3\u001b[0m\u001b[0;34m)\u001b[0m\u001b[0;34m\u001b[0m\u001b[0;34m\u001b[0m\u001b[0m\n\u001b[1;32m      4\u001b[0m \u001b[0mprint\u001b[0m\u001b[0;34m(\u001b[0m\u001b[0ma\u001b[0m\u001b[0;34m)\u001b[0m\u001b[0;34m\u001b[0m\u001b[0;34m\u001b[0m\u001b[0m\n",
            "\u001b[0;31mModuleNotFoundError\u001b[0m: No module named 'aritmatika'",
            "",
            "\u001b[0;31m---------------------------------------------------------------------------\u001b[0;32m\nNOTE: If your import is failing due to a missing package, you can\nmanually install dependencies using either !pip or !apt.\n\nTo view examples of installing some common dependencies, click the\n\"Open Examples\" button below.\n\u001b[0;31m---------------------------------------------------------------------------\u001b[0m\n"
          ]
        }
      ],
      "source": [
        "from aritmatika import tambah\n",
        "\n",
        "a=tambah(10,3)\n",
        "print(a)"
      ]
    },
    {
      "cell_type": "markdown",
      "metadata": {
        "id": "MIOMnHcIK0MW"
      },
      "source": [
        "# Package"
      ]
    },
    {
      "cell_type": "markdown",
      "metadata": {
        "id": "Rx5xbql5K0MW"
      },
      "source": [
        "1. Buatlah folder dengan nama LATIHAN_PYTHON\n",
        "2. Dalam folder LATIHAN_PYTHON, buatlah folder dengan nama latihan_package, file main.py, dan file `__init__.py`\n",
        "3. Dalam latihan_package, buatlah 2 file, dengan nama alpha.py dan beta.py"
      ]
    },
    {
      "cell_type": "code",
      "execution_count": 27,
      "metadata": {
        "colab": {
          "base_uri": "https://localhost:8080/",
          "height": 211
        },
        "id": "Rxo_ZarcK0MW",
        "outputId": "f5b5c77b-a5b5-4798-a7f2-9f53bd1343ac"
      },
      "outputs": [
        {
          "ename": "NameError",
          "evalue": "name 'alpha' is not defined",
          "output_type": "error",
          "traceback": [
            "\u001b[0;31m---------------------------------------------------------------------------\u001b[0m",
            "\u001b[0;31mNameError\u001b[0m                                 Traceback (most recent call last)",
            "\u001b[0;32m<ipython-input-27-caca06929864>\u001b[0m in \u001b[0;36m<cell line: 0>\u001b[0;34m()\u001b[0m\n\u001b[0;32m----> 1\u001b[0;31m \u001b[0malpha\u001b[0m\u001b[0;34m.\u001b[0m\u001b[0mpy\u001b[0m\u001b[0;34m\u001b[0m\u001b[0;34m\u001b[0m\u001b[0m\n\u001b[0m\u001b[1;32m      2\u001b[0m \u001b[0;32mdef\u001b[0m \u001b[0malphaSatu\u001b[0m\u001b[0;34m(\u001b[0m\u001b[0;34m)\u001b[0m\u001b[0;34m:\u001b[0m\u001b[0;34m\u001b[0m\u001b[0;34m\u001b[0m\u001b[0m\n\u001b[1;32m      3\u001b[0m         \u001b[0mprint\u001b[0m\u001b[0;34m(\u001b[0m\u001b[0;34m\"alpha   Satu\"\u001b[0m\u001b[0;34m)\u001b[0m\u001b[0;34m\u001b[0m\u001b[0;34m\u001b[0m\u001b[0m\n\u001b[1;32m      4\u001b[0m \u001b[0;34m\u001b[0m\u001b[0m\n\u001b[1;32m      5\u001b[0m \u001b[0;32mdef\u001b[0m \u001b[0malphaDua\u001b[0m\u001b[0;34m(\u001b[0m\u001b[0;34m)\u001b[0m\u001b[0;34m:\u001b[0m\u001b[0;34m\u001b[0m\u001b[0;34m\u001b[0m\u001b[0m\n",
            "\u001b[0;31mNameError\u001b[0m: name 'alpha' is not defined"
          ]
        }
      ],
      "source": [
        "alpha.py\n",
        "def alphaSatu():\n",
        "\tprint(\"alpha   Satu\")\n",
        "\n",
        "def alphaDua():\n",
        "\tprint(\"alphaDua\")\n",
        "\n",
        "#beta.py\n",
        "# def betaSatu():\n",
        "# \tprint(\"betaSatu\")\n",
        "\n",
        "# def betaDua():\n",
        "# \tprint(\"betaDua\")\n",
        "\n",
        "#main.py\n",
        "\n",
        "# import latihan_package.alpha as a\n",
        "# import latihan_package.beta as b\n",
        "\n",
        "# a.alphaSatu()\n",
        "\n"
      ]
    },
    {
      "cell_type": "code",
      "execution_count": 32,
      "metadata": {
        "colab": {
          "base_uri": "https://localhost:8080/",
          "height": 228
        },
        "id": "BNL3Qq-EK0MW",
        "outputId": "15002ff9-cf20-4809-a85d-3f8c4616dd95"
      },
      "outputs": [
        {
          "ename": "FileNotFoundError",
          "evalue": "[Errno 2] No such file or directory: '/Users/masaboe/Documents/NGAJAR/2021/DTS FGA/Python PCAP'",
          "output_type": "error",
          "traceback": [
            "\u001b[0;31m---------------------------------------------------------------------------\u001b[0m",
            "\u001b[0;31mFileNotFoundError\u001b[0m                         Traceback (most recent call last)",
            "\u001b[0;32m<ipython-input-32-004c44123e46>\u001b[0m in \u001b[0;36m<cell line: 0>\u001b[0;34m()\u001b[0m\n\u001b[1;32m      3\u001b[0m \u001b[0;32mimport\u001b[0m \u001b[0mos\u001b[0m\u001b[0;34m\u001b[0m\u001b[0;34m\u001b[0m\u001b[0m\n\u001b[1;32m      4\u001b[0m \u001b[0;34m\u001b[0m\u001b[0m\n\u001b[0;32m----> 5\u001b[0;31m \u001b[0mos\u001b[0m\u001b[0;34m.\u001b[0m\u001b[0mchdir\u001b[0m\u001b[0;34m(\u001b[0m\u001b[0;34mr\"/Users/masaboe/Documents/NGAJAR/2021/DTS FGA/Python PCAP\"\u001b[0m\u001b[0;34m)\u001b[0m\u001b[0;34m\u001b[0m\u001b[0;34m\u001b[0m\u001b[0m\n\u001b[0m\u001b[1;32m      6\u001b[0m \u001b[0;34m\u001b[0m\u001b[0m\n\u001b[1;32m      7\u001b[0m \u001b[0;32mimport\u001b[0m \u001b[0mlatihan_package\u001b[0m\u001b[0;34m.\u001b[0m\u001b[0malpha\u001b[0m \u001b[0;32mas\u001b[0m \u001b[0ma\u001b[0m\u001b[0;34m,\u001b[0m \u001b[0mlatihan_package\u001b[0m\u001b[0;34m.\u001b[0m\u001b[0mbeta\u001b[0m \u001b[0;32mas\u001b[0m \u001b[0mb\u001b[0m\u001b[0;34m\u001b[0m\u001b[0;34m\u001b[0m\u001b[0m\n",
            "\u001b[0;31mFileNotFoundError\u001b[0m: [Errno 2] No such file or directory: '/Users/masaboe/Documents/NGAJAR/2021/DTS FGA/Python PCAP'"
          ]
        }
      ],
      "source": [
        "#cara mengakses package yang dibuat, copy dan paste code dalam file main.py\n",
        "\n",
        "import os\n",
        "\n",
        "os.chdir(r\"/Users/masaboe/Documents/NGAJAR/2021/DTS FGA/Python PCAP\")\n",
        "\n",
        "import latihan_package.alpha as a, latihan_package.beta as b\n",
        "\n",
        "a.alphaSatu()\n",
        "b.betaSatu()"
      ]
    },
    {
      "cell_type": "code",
      "execution_count": null,
      "metadata": {
        "id": "rKeUeH1dK0MW"
      },
      "outputs": [],
      "source": [
        "os.chdir(r\"E:\\CTA\\DIGITAL TALENT\\digital-talent\\2019\")"
      ]
    },
    {
      "cell_type": "code",
      "execution_count": null,
      "metadata": {
        "id": "o-g_tZhPK0MW"
      },
      "outputs": [],
      "source": [
        "import os\n",
        "os.getcwd()\n",
        "\n",
        "print(os.getcwd())"
      ]
    },
    {
      "cell_type": "code",
      "execution_count": 31,
      "metadata": {
        "colab": {
          "base_uri": "https://localhost:8080/",
          "height": 193
        },
        "id": "G_uv-GsIK0MW",
        "outputId": "f1ad2192-2b47-4efb-c0f8-a0235c0097b5"
      },
      "outputs": [
        {
          "ename": "NameError",
          "evalue": "name 'os' is not defined",
          "output_type": "error",
          "traceback": [
            "\u001b[0;31m---------------------------------------------------------------------------\u001b[0m",
            "\u001b[0;31mNameError\u001b[0m                                 Traceback (most recent call last)",
            "\u001b[0;32m<ipython-input-31-342767b557fa>\u001b[0m in \u001b[0;36m<cell line: 0>\u001b[0;34m()\u001b[0m\n\u001b[0;32m----> 1\u001b[0;31m \u001b[0mos\u001b[0m\u001b[0;34m.\u001b[0m\u001b[0mchdir\u001b[0m\u001b[0;34m(\u001b[0m\u001b[0;34mr\"/Users/masaboe/Documents/NGAJAR/2021/DTS FGA/Python PCAP\"\u001b[0m\u001b[0;34m)\u001b[0m\u001b[0;34m\u001b[0m\u001b[0;34m\u001b[0m\u001b[0m\n\u001b[0m\u001b[1;32m      2\u001b[0m \u001b[0;34m\u001b[0m\u001b[0m\n\u001b[1;32m      3\u001b[0m \u001b[0;32mimport\u001b[0m \u001b[0mlatihan_package\u001b[0m\u001b[0;34m.\u001b[0m\u001b[0malpha\u001b[0m \u001b[0;32mas\u001b[0m \u001b[0ma\u001b[0m\u001b[0;34m\u001b[0m\u001b[0;34m\u001b[0m\u001b[0m\n\u001b[1;32m      4\u001b[0m \u001b[0ma\u001b[0m\u001b[0;34m.\u001b[0m\u001b[0malphaSatu\u001b[0m\u001b[0;34m(\u001b[0m\u001b[0;34m)\u001b[0m\u001b[0;34m\u001b[0m\u001b[0;34m\u001b[0m\u001b[0m\n",
            "\u001b[0;31mNameError\u001b[0m: name 'os' is not defined"
          ]
        }
      ],
      "source": [
        "os.chdir(r\"/Users/masaboe/Documents/NGAJAR/2021/DTS FGA/Python PCAP\")\n",
        "\n",
        "import latihan_package.alpha as a\n",
        "a.alphaSatu()"
      ]
    },
    {
      "cell_type": "code",
      "execution_count": 30,
      "metadata": {
        "colab": {
          "base_uri": "https://localhost:8080/",
          "height": 349
        },
        "id": "8ViaAmQ7K0MW",
        "outputId": "983aff19-a24e-4851-a691-325260c44c1e"
      },
      "outputs": [
        {
          "ename": "ModuleNotFoundError",
          "evalue": "No module named 'alpha'",
          "output_type": "error",
          "traceback": [
            "\u001b[0;31m---------------------------------------------------------------------------\u001b[0m",
            "\u001b[0;31mModuleNotFoundError\u001b[0m                       Traceback (most recent call last)",
            "\u001b[0;32m<ipython-input-30-38d56ccc15bd>\u001b[0m in \u001b[0;36m<cell line: 0>\u001b[0;34m()\u001b[0m\n\u001b[0;32m----> 1\u001b[0;31m \u001b[0;32mimport\u001b[0m \u001b[0malpha\u001b[0m\u001b[0;34m\u001b[0m\u001b[0;34m\u001b[0m\u001b[0m\n\u001b[0m\u001b[1;32m      2\u001b[0m \u001b[0;34m\u001b[0m\u001b[0m\n\u001b[1;32m      3\u001b[0m \u001b[0malpha\u001b[0m\u001b[0;34m.\u001b[0m\u001b[0malphaSatu\u001b[0m\u001b[0;34m(\u001b[0m\u001b[0;34m)\u001b[0m\u001b[0;34m\u001b[0m\u001b[0;34m\u001b[0m\u001b[0m\n",
            "\u001b[0;31mModuleNotFoundError\u001b[0m: No module named 'alpha'",
            "",
            "\u001b[0;31m---------------------------------------------------------------------------\u001b[0;32m\nNOTE: If your import is failing due to a missing package, you can\nmanually install dependencies using either !pip or !apt.\n\nTo view examples of installing some common dependencies, click the\n\"Open Examples\" button below.\n\u001b[0;31m---------------------------------------------------------------------------\u001b[0m\n"
          ]
        }
      ],
      "source": [
        "import alpha\n",
        "\n",
        "alpha.alphaSatu()"
      ]
    },
    {
      "cell_type": "markdown",
      "metadata": {
        "id": "y8FwNyIbK0MW"
      },
      "source": [
        "# PyPI (Python Package Index), PIP installs packages\n",
        "\n",
        "- (https://pypi.org/) PyPI has lots of software in stock and it's available 24/7. It's fully entitled to identify itself as Ye International Python Software Emporium.\n",
        "- Some Python installations come with pip, some don't. What’s more, it doesn’t only depend on the OS you use, although this is a very important factor.\n",
        "\n",
        "#### List of main PIP activities\n",
        "- `pip help operation` - shows brief pip's description;\n",
        "- `pip list` - shows list of currently installed packages;\n",
        "- `pip show package_name` - shows package_name info including package's dependencies;\n",
        "- `pip search anystring` - searches through PyPI directories in order to find packages which name contains anystring;\n",
        "- `pip install name` - installs name system-wide (expect problems when you don't have administrative rights);\n",
        "- `pip install` --user name - install name for you only; no other your platform's user will be able to use it;\n",
        "- `pip install -U name` - updates previously installed package;\n",
        "- `pip uninstall name` - uninstalls previously installed package;"
      ]
    },
    {
      "cell_type": "code",
      "execution_count": 28,
      "metadata": {
        "colab": {
          "base_uri": "https://localhost:8080/"
        },
        "id": "-KtRntdTK0MW",
        "outputId": "57f4d8d4-5bd8-42bb-89dc-b261dd1c0ea8"
      },
      "outputs": [
        {
          "name": "stdout",
          "output_type": "stream",
          "text": [
            "pip 24.1.2 from /usr/local/lib/python3.11/dist-packages/pip (python 3.11)\n"
          ]
        }
      ],
      "source": [
        "pip --version"
      ]
    },
    {
      "cell_type": "code",
      "execution_count": 29,
      "metadata": {
        "colab": {
          "base_uri": "https://localhost:8080/"
        },
        "id": "hNugvPdwK0MW",
        "outputId": "dbbbdecf-be41-439e-e4e0-920f65e264c7"
      },
      "outputs": [
        {
          "name": "stdout",
          "output_type": "stream",
          "text": [
            "\n",
            "Usage:   \n",
            "  pip3 <command> [options]\n",
            "\n",
            "Commands:\n",
            "  install                     Install packages.\n",
            "  download                    Download packages.\n",
            "  uninstall                   Uninstall packages.\n",
            "  freeze                      Output installed packages in requirements format.\n",
            "  inspect                     Inspect the python environment.\n",
            "  list                        List installed packages.\n",
            "  show                        Show information about installed packages.\n",
            "  check                       Verify installed packages have compatible dependencies.\n",
            "  config                      Manage local and global configuration.\n",
            "  search                      Search PyPI for packages.\n",
            "  cache                       Inspect and manage pip's wheel cache.\n",
            "  index                       Inspect information available from package indexes.\n",
            "  wheel                       Build wheels from your requirements.\n",
            "  hash                        Compute hashes of package archives.\n",
            "  completion                  A helper command used for command completion.\n",
            "  debug                       Show information useful for debugging.\n",
            "  help                        Show help for commands.\n",
            "\n",
            "General Options:\n",
            "  -h, --help                  Show help.\n",
            "  --debug                     Let unhandled exceptions propagate outside the main subroutine,\n",
            "                              instead of logging them to stderr.\n",
            "  --isolated                  Run pip in an isolated mode, ignoring environment variables and user\n",
            "                              configuration.\n",
            "  --require-virtualenv        Allow pip to only run in a virtual environment; exit with an error\n",
            "                              otherwise.\n",
            "  --python <python>           Run pip with the specified Python interpreter.\n",
            "  -v, --verbose               Give more output. Option is additive, and can be used up to 3 times.\n",
            "  -V, --version               Show version and exit.\n",
            "  -q, --quiet                 Give less output. Option is additive, and can be used up to 3 times\n",
            "                              (corresponding to WARNING, ERROR, and CRITICAL logging levels).\n",
            "  --log <path>                Path to a verbose appending log.\n",
            "  --no-input                  Disable prompting for input.\n",
            "  --keyring-provider <keyring_provider>\n",
            "                              Enable the credential lookup via the keyring library if user input\n",
            "                              is allowed. Specify which mechanism to use [disabled, import,\n",
            "                              subprocess]. (default: disabled)\n",
            "  --proxy <proxy>             Specify a proxy in the form\n",
            "                              scheme://[user:passwd@]proxy.server:port.\n",
            "  --retries <retries>         Maximum number of retries each connection should attempt (default 5\n",
            "                              times).\n",
            "  --timeout <sec>             Set the socket timeout (default 15 seconds).\n",
            "  --exists-action <action>    Default action when a path already exists: (s)witch, (i)gnore,\n",
            "                              (w)ipe, (b)ackup, (a)bort.\n",
            "  --trusted-host <hostname>   Mark this host or host:port pair as trusted, even though it does not\n",
            "                              have valid or any HTTPS.\n",
            "  --cert <path>               Path to PEM-encoded CA certificate bundle. If provided, overrides\n",
            "                              the default. See 'SSL Certificate Verification' in pip documentation\n",
            "                              for more information.\n",
            "  --client-cert <path>        Path to SSL client certificate, a single file containing the private\n",
            "                              key and the certificate in PEM format.\n",
            "  --cache-dir <dir>           Store the cache data in <dir>.\n",
            "  --no-cache-dir              Disable the cache.\n",
            "  --disable-pip-version-check\n",
            "                              Don't periodically check PyPI to determine whether a new version of\n",
            "                              pip is available for download. Implied with --no-index.\n",
            "  --no-color                  Suppress colored output.\n",
            "  --no-python-version-warning\n",
            "                              Silence deprecation warnings for upcoming unsupported Pythons.\n",
            "  --use-feature <feature>     Enable new functionality, that may be backward incompatible.\n",
            "  --use-deprecated <feature>  Enable deprecated functionality, that will be removed in the future.\n"
          ]
        }
      ],
      "source": [
        "pip help"
      ]
    }
  ],
  "metadata": {
    "colab": {
      "provenance": []
    },
    "kernelspec": {
      "display_name": "Python 3 (ipykernel)",
      "language": "python",
      "name": "python3"
    },
    "language_info": {
      "codemirror_mode": {
        "name": "ipython",
        "version": 3
      },
      "file_extension": ".py",
      "mimetype": "text/x-python",
      "name": "python",
      "nbconvert_exporter": "python",
      "pygments_lexer": "ipython3",
      "version": "3.9.5"
    }
  },
  "nbformat": 4,
  "nbformat_minor": 0
}
