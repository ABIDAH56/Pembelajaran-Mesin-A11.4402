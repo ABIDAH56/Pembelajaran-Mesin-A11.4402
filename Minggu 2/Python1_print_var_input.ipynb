{
  "cells": [
    {
      "cell_type": "markdown",
      "metadata": {
        "id": "49nFszj4ap0H"
      },
      "source": [
        "# Python Basic-1\n",
        "- mengenal fungsi print();\n",
        "- tanda kurung buka;\n",
        "- tanda kutip;\n",
        "- kalimat 1 baris: Hello, World!;\n",
        "- fungsi beberapa tanda kutip lain;\n",
        "- tanda kurung tutup."
      ]
    },
    {
      "cell_type": "code",
      "execution_count": null,
      "metadata": {
        "colab": {
          "base_uri": "https://localhost:8080/"
        },
        "id": "uQwMAQCxap0J",
        "outputId": "641deb32-468a-4337-c17f-db0183cc119e"
      },
      "outputs": [
        {
          "name": "stdout",
          "output_type": "stream",
          "text": [
            "Hello World!@#!#!$\n",
            "test\n"
          ]
        }
      ],
      "source": [
        "print(\"Hello World!@#!#!$\")\n",
        "print(\"test\")"
      ]
    },
    {
      "cell_type": "markdown",
      "metadata": {
        "id": "jyW_Zjbsap0K"
      },
      "source": [
        "#### Latihan: The print() function\n",
        "\n",
        "- Cetak kalimat \"Hello, Python!\"\n",
        "- Cetak nama pertamamu\n",
        "- Cetak nama pertamamu tanpa petik\n",
        "- apakah ada bedanya double quote \"\" dan single quote '?"
      ]
    },
    {
      "cell_type": "code",
      "execution_count": null,
      "metadata": {
        "colab": {
          "base_uri": "https://localhost:8080/"
        },
        "id": "ikyAZnjCap0L",
        "outputId": "7145dc9f-3860-4013-c7bf-f5985bd050fb"
      },
      "outputs": [
        {
          "name": "stdout",
          "output_type": "stream",
          "text": [
            "Hello, Python!\n",
            "Abu\n",
            "Abu\n"
          ]
        }
      ],
      "source": [
        "print(\"Hello, Python!\")\n",
        "print(\"Abu\")\n",
        "print('Abu')"
      ]
    },
    {
      "cell_type": "markdown",
      "metadata": {
        "id": "iQhHvqc0ap0L"
      },
      "source": [
        "## Formatting dengan Special Character\n",
        "`\\' = karakter spesial \"escaping nature\"\n",
        "\n",
        "`\\n` = untuk enter\n",
        "\n",
        "`\\` = escaping karakter\n",
        "\n",
        "```python\n",
        "print() = berarti line kosong\n",
        "```\n",
        "\n",
        "Tidak boleh ada 2 perintah dalam 1 baris\n",
        "```python\n",
        "print(\"nama depan\") print (\"nama belakang\")\n",
        "```"
      ]
    },
    {
      "cell_type": "code",
      "execution_count": null,
      "metadata": {
        "colab": {
          "base_uri": "https://localhost:8080/"
        },
        "id": "6q7JRU5Wap0L",
        "outputId": "bea90e50-2f9f-4163-b889-62f0cd822721"
      },
      "outputs": [
        {
          "name": "stdout",
          "output_type": "stream",
          "text": [
            "\n",
            "Saya sudah sarapan tadi pagi\n",
            " dan nanti siang makan lagi\n",
            "Saya sudah sarapan tadi pagi\t dan nanti siang makan lagi\n"
          ]
        }
      ],
      "source": [
        "print()\n",
        "\n",
        "print(\"Saya sudah sarapan tadi pagi\\n dan nanti siang makan lagi\")\n",
        "print(\"Saya sudah sarapan tadi pagi\\t dan nanti siang makan lagi\")"
      ]
    },
    {
      "cell_type": "code",
      "execution_count": null,
      "metadata": {
        "colab": {
          "base_uri": "https://localhost:8080/"
        },
        "id": "fO-Dbaabap0L",
        "outputId": "7788cee8-72b0-4821-cd61-b76934ddd510"
      },
      "outputs": [
        {
          "name": "stdout",
          "output_type": "stream",
          "text": [
            "nama saya \"abu\"\n"
          ]
        }
      ],
      "source": [
        "print(\"nama saya \\\"abu\\\"\")"
      ]
    },
    {
      "cell_type": "code",
      "execution_count": null,
      "metadata": {
        "colab": {
          "base_uri": "https://localhost:8080/"
        },
        "id": "UmVTuwNNap0M",
        "outputId": "a91e3606-92ac-401f-d219-8db9fbd9ba05"
      },
      "outputs": [
        {
          "name": "stdout",
          "output_type": "stream",
          "text": [
            "\"\n"
          ]
        }
      ],
      "source": [
        "print(\"\\\"\")"
      ]
    },
    {
      "cell_type": "code",
      "execution_count": null,
      "metadata": {
        "colab": {
          "base_uri": "https://localhost:8080/"
        },
        "id": "PumT1NoWap0M",
        "outputId": "3752e149-9d45-406a-db46-c8a6546edf66"
      },
      "outputs": [
        {
          "name": "stdout",
          "output_type": "stream",
          "text": [
            "satu. dua. tiga.\n"
          ]
        }
      ],
      "source": [
        "print(\"satu.\",\"dua.\",\"tiga.\")"
      ]
    },
    {
      "cell_type": "code",
      "execution_count": null,
      "metadata": {
        "colab": {
          "base_uri": "https://localhost:8080/"
        },
        "id": "gTGbiBS8ap0M",
        "outputId": "a1fcf21b-16d0-4b9c-ecbf-34edd9674e20"
      },
      "outputs": [
        {
          "name": "stdout",
          "output_type": "stream",
          "text": [
            "Nama saya Abu Salam\n"
          ]
        }
      ],
      "source": [
        "print(\"Nama saya\",\"Abu\", end=\" \")\n",
        "print(\"Salam\")"
      ]
    },
    {
      "cell_type": "code",
      "execution_count": null,
      "metadata": {
        "colab": {
          "base_uri": "https://localhost:8080/"
        },
        "id": "IWEWEIOYap0M",
        "outputId": "e7d311d2-100a-497f-a120-14160374e354"
      },
      "outputs": [
        {
          "name": "stdout",
          "output_type": "stream",
          "text": [
            "satu, dua, tiga\n"
          ]
        }
      ],
      "source": [
        "print(\"satu\",\"dua\",\"tiga\", sep=\", \")"
      ]
    },
    {
      "cell_type": "markdown",
      "metadata": {
        "id": "RuNtmwI9ap0N"
      },
      "source": [
        "## Latihan: The Print Function\n",
        "\n",
        "Buatlah Program untuk menghasilkan output:\n",
        "`Programming***Essentials***in...Python`"
      ]
    },
    {
      "cell_type": "code",
      "execution_count": null,
      "metadata": {
        "colab": {
          "base_uri": "https://localhost:8080/"
        },
        "id": "h1Z6QfCgap0N",
        "outputId": "37a463a7-153e-47f6-f772-b3d4b5ca760a"
      },
      "outputs": [
        {
          "name": "stdout",
          "output_type": "stream",
          "text": [
            "Programming Essentials in\n",
            "Python\n"
          ]
        }
      ],
      "source": [
        "#Clue\n",
        "print(\"Programming\",\"Essentials\",\"in\")\n",
        "print(\"Python\")"
      ]
    },
    {
      "cell_type": "code",
      "execution_count": null,
      "metadata": {
        "colab": {
          "base_uri": "https://localhost:8080/"
        },
        "id": "9GJ9RkYKap0N",
        "outputId": "bc8bb801-0fd4-4334-d91b-f37aa33a5344"
      },
      "outputs": [
        {
          "name": "stdout",
          "output_type": "stream",
          "text": [
            "Programming***Essentials***in...PythonPython\n"
          ]
        }
      ],
      "source": [
        "#Programming***Essentials***in...PythonPython\n",
        "\n",
        "print(\"Programming\",\"Essentials\",\"in\", sep=\"***\", end=\"...\")\n",
        "print(\"Python\"*2)"
      ]
    },
    {
      "cell_type": "markdown",
      "metadata": {
        "id": "c69r2_6nap0N"
      },
      "source": [
        "## Latihan: Formatting the output\n",
        "Membuat duplikasi pola gambar bintang"
      ]
    },
    {
      "cell_type": "code",
      "execution_count": null,
      "metadata": {
        "colab": {
          "base_uri": "https://localhost:8080/"
        },
        "id": "oRDVZ9CBap0N",
        "outputId": "fdf443d3-7aaa-4ef1-cb40-69679955bd61"
      },
      "outputs": [
        {
          "name": "stdout",
          "output_type": "stream",
          "text": [
            "    *        *    \n",
            "   * *      * *   \n",
            "  *   *    *   *  \n",
            " *     *  *     * \n",
            "***   ******   ***\n",
            "  *   *    *   *  \n",
            "  *   *    *   *  \n",
            "  *****    *****  \n"
          ]
        }
      ],
      "source": [
        "#clue\n",
        "\n",
        "print(\"    *    \"*2)\n",
        "print(\"   * *   \"*2)\n",
        "print(\"  *   *  \"*2)\n",
        "print(\" *     * \"*2)\n",
        "print(\"***   ***\"*2)\n",
        "print(\"  *   *  \"*2)\n",
        "print(\"  *   *  \"*2)\n",
        "print(\"  *****  \"*2)"
      ]
    },
    {
      "cell_type": "code",
      "execution_count": null,
      "metadata": {
        "colab": {
          "base_uri": "https://localhost:8080/"
        },
        "id": "ybdrpDB9ap0O",
        "outputId": "66216c85-126b-4511-f8af-5a4db984fbfd"
      },
      "outputs": [
        {
          "name": "stdout",
          "output_type": "stream",
          "text": [
            "    *\n",
            "   * *\n",
            "  *   *\n",
            " *     *\n",
            "***   ***\n",
            "  *   *\n",
            "  *   *\n",
            "  *****\n",
            "    *\n",
            "   * *\n",
            "  *   *\n",
            " *     *\n",
            "***   ***\n",
            "  *   *\n",
            "  *   *\n",
            "  *****\n",
            "\n"
          ]
        }
      ],
      "source": [
        "print(\"    *\\n   * *\\n  *   *\\n *     *\\n***   ***\\n  *   *\\n  *   *\\n  *****\\n\"*2)"
      ]
    },
    {
      "cell_type": "markdown",
      "metadata": {
        "id": "0p7arBvmap0O"
      },
      "source": [
        "# Literal\n",
        "literal merupakan notasi untuk mensimbolkan nilai, dapat berupa string, boolean maupun angka (integer dan float)"
      ]
    },
    {
      "cell_type": "code",
      "execution_count": null,
      "metadata": {
        "colab": {
          "base_uri": "https://localhost:8080/"
        },
        "id": "yJXfOlSzap0O",
        "outputId": "af9bf69a-b809-4823-a520-40cdab78cfae"
      },
      "outputs": [
        {
          "name": "stdout",
          "output_type": "stream",
          "text": [
            "22\n",
            "4\n",
            "<class 'str'>\n",
            "<class 'int'>\n"
          ]
        }
      ],
      "source": [
        "print(\"2\"*2)\n",
        "print(2*2)\n",
        "\n",
        "print(type(\"2\"))\n",
        "print(type(2))"
      ]
    },
    {
      "cell_type": "markdown",
      "metadata": {
        "id": "O43AGBDpap0O"
      },
      "source": [
        "## Integers vs Floats"
      ]
    },
    {
      "cell_type": "code",
      "execution_count": null,
      "metadata": {
        "colab": {
          "base_uri": "https://localhost:8080/"
        },
        "id": "wfTLvXUmap0O",
        "outputId": "7f0714ad-5355-4d16-8953-121f2c1504cc"
      },
      "outputs": [
        {
          "name": "stdout",
          "output_type": "stream",
          "text": [
            "5 mempunyai tipe <class 'int'>\n",
            "0.5 mempunyai tipe <class 'float'>\n"
          ]
        }
      ],
      "source": [
        "print(5, \"mempunyai tipe\", type(5))\n",
        "print(.5, \"mempunyai tipe\", type(.5))"
      ]
    },
    {
      "cell_type": "markdown",
      "metadata": {
        "id": "A_WUm7Lrap0O"
      },
      "source": [
        "\n",
        "# Penulisan Float dan Integer\n",
        "Python versi 3 membolehkan pemisahan digit integer dengan underscore \"_\"\n",
        "agar mudah dibaca\n",
        "```python\n",
        "print (10_000_000)```\n",
        "\n",
        "Float dipisahkan dengan .(titik) bukan ,(koma)\n",
        "cara penulisan float bisa 3 cara\n",
        "\n",
        "- 4.0\n",
        "- .4 (terbaca nol koma 4)\n",
        "- 4. (terbaca 4 koma nol)\n",
        "\n",
        "> 3e08 berarti $ 3 x 10 ^ 8 $  \n",
        "3e-08 berarti $ 3 x 10 ^ {-8} $\n"
      ]
    },
    {
      "cell_type": "markdown",
      "metadata": {
        "id": "SFdmKJJqap0O"
      },
      "source": [
        "## String"
      ]
    },
    {
      "cell_type": "markdown",
      "metadata": {
        "id": "fXubIyhiap0P"
      },
      "source": [
        "Buatlah program untuk menghasilkan output `I'm Monty Python`"
      ]
    },
    {
      "cell_type": "code",
      "execution_count": null,
      "metadata": {
        "id": "X8M-hk6Kap0P"
      },
      "outputs": [],
      "source": []
    },
    {
      "cell_type": "markdown",
      "metadata": {
        "id": "BnC3gYPTap0P"
      },
      "source": [
        "## Booelan\n",
        "Logika benar salah, 1 bernilai benar (True) dan 0 bernilai salah (False)"
      ]
    },
    {
      "cell_type": "code",
      "execution_count": null,
      "metadata": {
        "colab": {
          "base_uri": "https://localhost:8080/"
        },
        "id": "koodNt00ap0P",
        "outputId": "9bd19680-a449-4a58-a106-835a0e60a402"
      },
      "outputs": [
        {
          "name": "stdout",
          "output_type": "stream",
          "text": [
            "True\n",
            "False\n",
            "True\n",
            "False\n"
          ]
        }
      ],
      "source": [
        "print(True)\n",
        "print(False)\n",
        "\n",
        "print(4>2)\n",
        "print(3>4)"
      ]
    },
    {
      "cell_type": "markdown",
      "metadata": {
        "id": "bdVDWBLeap0P"
      },
      "source": [
        "## None"
      ]
    },
    {
      "cell_type": "code",
      "execution_count": null,
      "metadata": {
        "id": "jHsZHv3Lap0P"
      },
      "outputs": [],
      "source": [
        "print()"
      ]
    },
    {
      "cell_type": "markdown",
      "metadata": {
        "id": "ovaXA_8rap0Q"
      },
      "source": [
        "## Latihan: Python literals - strings\n",
        "Buat output seperti ini dalam satu line <br/>\n",
        "`\"I'm\"`<br/>\n",
        "`\"\"learning\"\"`<br/>\n",
        "`\"\"\"Python\"\"\"`"
      ]
    },
    {
      "cell_type": "code",
      "execution_count": null,
      "metadata": {
        "colab": {
          "base_uri": "https://localhost:8080/"
        },
        "id": "jW-peaMvap0Q",
        "outputId": "79d14f2c-f6ad-4da7-89d2-58a1f6729db6"
      },
      "outputs": [
        {
          "name": "stdout",
          "output_type": "stream",
          "text": [
            "\"I'm\"\n",
            "\"\"learning\"\"\n",
            "\"\"\"Python\"\"\"\n",
            "\n",
            "\"I'm\"\n",
            "\"\"learning\"\"\n",
            "\"\"\"Python\"\"\"\n",
            "\n"
          ]
        }
      ],
      "source": [
        "print('\"I\\'m\"\\n\"\"learning\"\"\\n\"\"\"Python\"\"\"')\n",
        "\n",
        "print(\"\"\"\n",
        "\"I'm\"\n",
        "\"\"learning\"\"\n",
        "\\\"\"\"Python\"\"\\\"\n",
        "\"\"\")"
      ]
    },
    {
      "cell_type": "markdown",
      "metadata": {
        "id": "bz4AbSzcap0Q"
      },
      "source": [
        "# Operator"
      ]
    },
    {
      "cell_type": "markdown",
      "metadata": {
        "id": "BCTKIfS2ap0Q"
      },
      "source": [
        "### Operator Aritmetika\n",
        "\n",
        "| Operator | Arti                                                                                          | Contoh                  |\n",
        "|----------|--------------------------------------------------------------------------------------------------|--------------------------|\n",
        "| +        | Penambahan                                                                   | x + y                 |\n",
        "| -        | Pengurangan                                              | x - y                  |\n",
        "| *        | Perkalian                                                                            | x * y                    |\n",
        "| /        | Pembagian                                 | x / y                    |\n",
        "| %        | Modulo - Sisa Pembagian                                 | x % y (sisa pembagian of x/y) |\n",
        "| //       | Pembagian dan dibulatkan ke bawah | x // y                   |\n",
        "| **       | Eksponen - Pangkat                                             | x**y (x pangkat y)  |"
      ]
    },
    {
      "cell_type": "code",
      "execution_count": null,
      "metadata": {
        "colab": {
          "base_uri": "https://localhost:8080/"
        },
        "id": "VOyY9CaCap0Q",
        "outputId": "3707f09b-e866-4e62-aa55-02a9ba260ae4"
      },
      "outputs": [
        {
          "name": "stdout",
          "output_type": "stream",
          "text": [
            "8\n",
            "8.0\n",
            "8.0\n",
            "8.0\n"
          ]
        }
      ],
      "source": [
        "print(2 ** 3)\n",
        "print(2 ** 3.)\n",
        "print(2. ** 3.)\n",
        "print(2. ** 3)"
      ]
    },
    {
      "cell_type": "code",
      "execution_count": null,
      "metadata": {
        "colab": {
          "base_uri": "https://localhost:8080/"
        },
        "id": "FILa7uo7ap0Q",
        "outputId": "a8acc62c-b595-4e69-bd04-725b58ea8b4f"
      },
      "outputs": [
        {
          "name": "stdout",
          "output_type": "stream",
          "text": [
            "3.3333333333333335\n",
            "3\n",
            "2.0\n",
            "2.0\n",
            "0\n",
            "4.0\n"
          ]
        }
      ],
      "source": [
        "print(10 / 3)\n",
        "print(10 // 3)\n",
        "\n",
        "print(6 / 3.)\n",
        "print(6 // 3.)\n",
        "\n",
        "print(-4 + 4)\n",
        "print(-4. + 8)"
      ]
    },
    {
      "cell_type": "markdown",
      "metadata": {
        "id": "ZiFeY9MFap0Q"
      },
      "source": [
        "### Urutan Operator"
      ]
    },
    {
      "cell_type": "markdown",
      "metadata": {
        "id": "z0u1irK7ap0R"
      },
      "source": [
        "| Prioritas| Operator |        |\n",
        "|----------|----------|--------|\n",
        "| 1        | +, -     | unary  |\n",
        "| 2        | **       |        |\n",
        "| 3        | *,/,//,% |        |\n",
        "| 4        | +, -     | binary |"
      ]
    },
    {
      "cell_type": "code",
      "execution_count": null,
      "metadata": {
        "id": "RHCHotqgap0R"
      },
      "outputs": [],
      "source": [
        "2 + 3 *5"
      ]
    },
    {
      "cell_type": "code",
      "execution_count": null,
      "metadata": {
        "colab": {
          "base_uri": "https://localhost:8080/"
        },
        "id": "BSs_mcPBap0R",
        "outputId": "bb4e899e-91e4-4e41-e4a1-c1949f0ce635"
      },
      "outputs": [
        {
          "name": "stdout",
          "output_type": "stream",
          "text": [
            "1\n",
            "3\n",
            "1\n",
            "256\n",
            "4\n",
            "256\n"
          ]
        }
      ],
      "source": [
        "print(9 % 6 % 2)\n",
        "print(9 % 6)\n",
        "print(3 % 2)\n",
        "\n",
        "print(2 ** 2 ** 3)\n",
        "print(2 ** 2)\n",
        "print(2 ** 8)"
      ]
    },
    {
      "cell_type": "code",
      "execution_count": null,
      "metadata": {
        "colab": {
          "base_uri": "https://localhost:8080/"
        },
        "id": "CcGRDkohap0Z",
        "outputId": "cd211df2-ab80-48c0-86cf-763b3a398e17"
      },
      "outputs": [
        {
          "name": "stdout",
          "output_type": "stream",
          "text": [
            "10.0\n"
          ]
        }
      ],
      "source": [
        "print((5 * ((25 % 13)+100) / (2 * 13)) // 2)"
      ]
    },
    {
      "cell_type": "markdown",
      "metadata": {
        "id": "1W91t0O4ap0a"
      },
      "source": [
        "# Variabel\n",
        "- Apa itu variabel?\n",
        "- Bagaimana Aturan Penamaannya?"
      ]
    },
    {
      "cell_type": "code",
      "execution_count": null,
      "metadata": {
        "colab": {
          "base_uri": "https://localhost:8080/"
        },
        "id": "r0vn5N9Xap0a",
        "outputId": "d0707ee0-35b9-47f4-adc2-8acd3dde5bb7"
      },
      "outputs": [
        {
          "name": "stdout",
          "output_type": "stream",
          "text": [
            "1\n"
          ]
        }
      ],
      "source": [
        "var = 1\n",
        "print(var)"
      ]
    },
    {
      "cell_type": "markdown",
      "metadata": {
        "id": "YQC448ezap0a"
      },
      "source": [
        "Tulis rumus ini dalam kode program:<br/> $c=\\sqrt{a^2+b^2}$"
      ]
    },
    {
      "cell_type": "code",
      "execution_count": null,
      "metadata": {
        "colab": {
          "base_uri": "https://localhost:8080/"
        },
        "id": "uSG4HHNhap0a",
        "outputId": "e96399bf-a168-4fa8-ba1c-bfc273cea085"
      },
      "outputs": [
        {
          "name": "stdout",
          "output_type": "stream",
          "text": [
            "c =  3.605551275463989\n"
          ]
        }
      ],
      "source": [
        "a=2.\n",
        "b=3.\n",
        "c=(a**2 + b**2) ** 0.5\n",
        "print(\"c = \", c)"
      ]
    },
    {
      "cell_type": "markdown",
      "metadata": {
        "id": "OdPVxeLAap0a"
      },
      "source": [
        "## Latihan: Variables\n",
        "\n",
        "<b>Cerita Pendek:</b>\n",
        "\n",
        "Suatu waktu di kebun apel, Darjo memiliki 3 apel, Darno memiliki 5 apel dan Waginem memiliki 6 Apel. mereka sangat bahagia dan hidup lama. selesai.\n",
        "\n",
        "Tugas Anda\n",
        "- buat variabe : `Darjo`, `Darno` dan `Waginem`\n",
        "- isi nilai sesuai dengan jumlah apel yang mereka miliki\n",
        "- cetak nama variabel dan jumlah apel setiap variabel dalam 1 baris, pisahkan dengan koma\n",
        "- buat variabel baru dengan nama `totalApel` yang berisi penjumlahan seluruh apel yang mereka miliki\n",
        "- coba otak atik code dengan membuat variable baru, diisi dengan nilai lain, dan dihitung dengan operator aritmetik lainnya"
      ]
    },
    {
      "cell_type": "code",
      "execution_count": null,
      "metadata": {
        "id": "ig6JXYDXap0a"
      },
      "outputs": [],
      "source": [
        "Darjo = 2\n",
        "Darno = 5\n",
        "Waginem = 6"
      ]
    },
    {
      "cell_type": "markdown",
      "metadata": {
        "id": "3y1P1airap0a"
      },
      "source": [
        "## Latihan: Variables: a simple converter\n",
        "\n",
        "Mil dan kilometer adalah satuan panjang\n",
        "\n",
        "1 mil memiliki panjang sekitar 1.61 kilometer, buatlah program konversi di bawah ini\n",
        "- mil ke kilometer;\n",
        "- kilometer to mil.\n",
        "jangan ganti apapun terhadap kode yang sudah ada. tulis kodemu pada tanda ###, kemudian hapus tanda tersebut. Uji kode Anda dengan data yang kami sajikan dalam source code"
      ]
    },
    {
      "cell_type": "markdown",
      "metadata": {
        "id": "ak4Rh965ap0a"
      },
      "source": [
        "Kode:\n",
        "```python\n",
        "kilometer = 12.25\n",
        "mil = 7.38\n",
        "\n",
        "mil_ke_kilometer = ###\n",
        "kilometer_ke_mil = ###\n",
        "\n",
        "print(mil, \"1 mil adalah\", round(miles_to_kilometers, 2), \"kilometer\")\n",
        "print(kilometer, \"1 kilometer adalah\", round(kilometers_to_miles, 2), \"mil\")\n",
        "```"
      ]
    },
    {
      "cell_type": "code",
      "execution_count": null,
      "metadata": {
        "colab": {
          "base_uri": "https://localhost:8080/"
        },
        "id": "6KE4ztq-ap0a",
        "outputId": "345cee56-76b6-44cf-937c-a14e6b571015"
      },
      "outputs": [
        {
          "name": "stdout",
          "output_type": "stream",
          "text": [
            "7.38 1 mil adalah 11.88 kilometer\n",
            "12.25 1 kilometer adalah 7.61 mil\n"
          ]
        }
      ],
      "source": [
        "kilometer = 12.25\n",
        "mil = 7.38\n",
        "\n",
        "miles_to_kilometers = mil * 1.61\n",
        "kilometers_to_miles = kilometer / 1.61\n",
        "\n",
        "print(mil, \"1 mil adalah\", round(miles_to_kilometers, 2), \"kilometer\")\n",
        "print(kilometer, \"1 kilometer adalah\", round(kilometers_to_miles, 2), \"mil\")"
      ]
    },
    {
      "cell_type": "markdown",
      "metadata": {
        "id": "TRH7Vc6Fap0a"
      },
      "source": [
        "## Latihan: Operators and expressions\n",
        "\n",
        "Skenario\n",
        "lihatlah kode dalam editor, nilai tersebut termasuk tipe float, letakkan nilai tersebut dalam variabel x, dan print variabel tersebut dalam variabel y. Tugasmu adalah melengkapi kode di bawah ini untk menyelesaikan persamaan di bawah\n",
        "\n",
        "$3x^3 - 2x^2 + 3x - 1$\n",
        "\n",
        "Hasil harus disimpan dalam variabel y.\n",
        "ingat bahwa aljabar klasik sering menghilangkan operator perkalian, kamu harus menggunakannya secara eksplisit. Ingat bagaimana cara mengubah tipe data untuk memastikan bahwa x bertipe float.\n",
        "\n",
        "usahakan kodemu mudah dibaca, uji kode dengan data yang telah kami berikan.\n",
        "\n",
        "```python\n",
        "x =  # hardcode your test data here\n",
        "x = float(x)\n",
        "# tulis kodemu disini\n",
        "print(\"y =\", y)\n",
        "```\n",
        "\n",
        "Test Data:\n",
        "```python\n",
        "#input\n",
        "x = 0\n",
        "x = 1\n",
        "x = -1\n",
        "\n",
        "#output\n",
        "y = -1.0\n",
        "y = 3.0\n",
        "y = -9.0\n",
        "```"
      ]
    },
    {
      "cell_type": "code",
      "execution_count": null,
      "metadata": {
        "colab": {
          "base_uri": "https://localhost:8080/"
        },
        "id": "7ooee_XHap0a",
        "outputId": "59c8f4b9-e56e-42ae-e7d5-ad8f880bc71e"
      },
      "outputs": [
        {
          "name": "stdout",
          "output_type": "stream",
          "text": [
            "3\n"
          ]
        }
      ],
      "source": [
        "var = 2\n",
        "var = 3\n",
        "print(var)"
      ]
    },
    {
      "cell_type": "markdown",
      "metadata": {
        "id": "RaPNKjr5ap0b"
      },
      "source": [
        "### Exercise\n",
        "\n",
        "Apa outputnya?\n",
        "```python\n",
        "var = 2\n",
        "var = 3\n",
        "print(var)\n",
        "```\n",
        "\n",
        "Nama variabel mana yang ilegal?\n",
        "```python\n",
        "my_var\n",
        "m\n",
        "101\n",
        "averylongvariablename\n",
        "m101\n",
        "m 101\n",
        "Del\n",
        "del\n",
        "```\n",
        "\n",
        "Apa Outputnya?\n",
        "```python\n",
        "a = '1'\n",
        "b = \"1\"\n",
        "print(a + b)\n",
        "```\n",
        "\n",
        "Apa outputnya?\n",
        "\n",
        "```python\n",
        "a = 6\n",
        "b = 3\n",
        "a /= 2 * b\n",
        "print(a)\n",
        "```"
      ]
    },
    {
      "cell_type": "markdown",
      "metadata": {
        "id": "SxH8gSuUap0b"
      },
      "source": [
        "# Comments\n",
        "Latihan: mana yang seharusnya menjadi komentar, mana yang tidak"
      ]
    },
    {
      "cell_type": "code",
      "execution_count": null,
      "metadata": {
        "colab": {
          "base_uri": "https://localhost:8080/"
        },
        "id": "zI8N5EOjap0b",
        "outputId": "a99a2ff8-87d5-49e7-cd0d-de9417474f0c"
      },
      "outputs": [
        {
          "name": "stdout",
          "output_type": "stream",
          "text": [
            "Hai...\n"
          ]
        }
      ],
      "source": [
        "#test\n",
        "print(\"Hai...\")\n",
        "#test1\n",
        "#test2"
      ]
    },
    {
      "cell_type": "markdown",
      "metadata": {
        "id": "y6gtUOTqap0b"
      },
      "source": [
        "# How to talk to a computer\n",
        "katakunci `input()`<br/>\n",
        "hasil dari fungsi `input()` adalah <b>string</b>.<br/>\n",
        "Tidak bisa langsung dikenakan ke operasi aritmetika"
      ]
    },
    {
      "cell_type": "code",
      "execution_count": null,
      "metadata": {
        "colab": {
          "base_uri": "https://localhost:8080/"
        },
        "id": "dxRrPTukap0b",
        "outputId": "5f16b500-e207-4e12-8d4b-2ef6c90b3001"
      },
      "outputs": [
        {
          "name": "stdout",
          "output_type": "stream",
          "text": [
            "Katakan sesuatu...\n",
            "A11.2023.15333\n",
            "mmmmm A11.2023.15333  Oke\n"
          ]
        }
      ],
      "source": [
        "print(\"Katakan sesuatu...\")\n",
        "sesuatu = input(\"A11.2023.15333\")\n",
        "print(\"mmmmm\", sesuatu, \" Oke\")\n",
        "\n",
        "\n"
      ]
    },
    {
      "cell_type": "markdown",
      "metadata": {
        "id": "RXNIDPdqap0b"
      },
      "source": [
        "### type casting"
      ]
    },
    {
      "cell_type": "code",
      "execution_count": 29,
      "metadata": {
        "colab": {
          "base_uri": "https://localhost:8080/"
        },
        "id": "zKaCGSqpap0b",
        "outputId": "b2acb166-17ce-4685-83f7-ea20b2a722a1"
      },
      "outputs": [
        {
          "name": "stdout",
          "output_type": "stream",
          "text": [
            "Masukan Angka : 2\n",
            "Pangkat duanya adalah  4.0\n"
          ]
        }
      ],
      "source": [
        "angka = float(input(\"Masukan Angka : \"))\n",
        "print(\"Pangkat duanya adalah \", angka**2)"
      ]
    },
    {
      "cell_type": "code",
      "execution_count": null,
      "metadata": {
        "colab": {
          "base_uri": "https://localhost:8080/"
        },
        "id": "o2jgf7yJap0b",
        "outputId": "b4d1bbfb-c10f-4913-ab17-f46a97b7907d"
      },
      "outputs": [
        {
          "ename": "",
          "evalue": "",
          "output_type": "error",
          "traceback": [
            "\u001b[1;31mRunning cells with 'Python 3.11.9' requires the ipykernel package.\n",
            "\u001b[1;31mRun the following command to install 'ipykernel' into the Python environment. \n",
            "\u001b[1;31mCommand: 'c:/Users/LENOVO/AppData/Local/Microsoft/WindowsApps/python3.11.exe -m pip install ipykernel -U --user --force-reinstall'"
          ]
        }
      ],
      "source": [
        "print(\"+\" + 10*\"-\" + \"+\")\n",
        "print((\"|\" + 10*\" \" + \"|\\n\") * 5, end=\"\")\n",
        "print(\"+\" + 10*\"-\" + \"+\")"
      ]
    },
    {
      "cell_type": "markdown",
      "metadata": {
        "id": "wYblWtgsap0c"
      },
      "source": [
        "## Latihan : Simple input and output\n",
        "Coba utak atik perintah kode dibawah ini\n",
        "``` python\n",
        "# Masukkan nilai a dalam float\n",
        "# Masukkan nilai b dalam float\n",
        "\n",
        "# hitung hasil penambahan disini\n",
        "# hitung hasil pengurangan disini\n",
        "# hitung hasil perkalian disini\n",
        "# hitung hasil pembagian disini\n",
        "\n",
        "\n",
        "print(\"\\nYeahhhh\")\n",
        "```"
      ]
    },
    {
      "cell_type": "markdown",
      "metadata": {
        "id": "ktTmIHjsap0c"
      },
      "source": [
        "## Latihan: Operators and expressions\n",
        "Kerjakan rumus berikut:\n",
        "<img src=\"images/modul2_pembagian.PNG\" width=200px />\n",
        "\n",
        "input/output yang diharapkan\n",
        "```python\n",
        "x = 1\n",
        "y = 0.6000000000000001\n",
        "\n",
        "x = 10\n",
        "y = 0.09901951266867294\n",
        "```"
      ]
    },
    {
      "cell_type": "code",
      "execution_count": null,
      "metadata": {
        "id": "EmWLOjh8ap0c"
      },
      "outputs": [],
      "source": [
        "print(\"\\\"I'm\\\"\\n \\\"\\\"learning\\\"\\\"\\n \\\"\\\"\\\"Python\\\"\\\"\\\"\\n\")"
      ]
    }
  ],
  "metadata": {
    "colab": {
      "provenance": []
    },
    "kernelspec": {
      "display_name": "Python 3",
      "language": "python",
      "name": "python3"
    },
    "language_info": {
      "codemirror_mode": {
        "name": "ipython",
        "version": 3
      },
      "file_extension": ".py",
      "mimetype": "text/x-python",
      "name": "python",
      "nbconvert_exporter": "python",
      "pygments_lexer": "ipython3",
      "version": "3.11.9"
    }
  },
  "nbformat": 4,
  "nbformat_minor": 0
}
